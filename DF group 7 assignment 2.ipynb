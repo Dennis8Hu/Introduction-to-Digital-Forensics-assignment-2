{
 "cells": [
  {
   "cell_type": "code",
   "execution_count": 19,
   "id": "4d33bb9b",
   "metadata": {},
   "outputs": [],
   "source": [
    "from scapy.all import *\n",
    "\n",
    "p = rdpcap(\"real_booter_attack.pcap\")"
   ]
  },
  {
   "cell_type": "markdown",
   "id": "56fd3657",
   "metadata": {},
   "source": [
    "# Digital Forensics - Assignment 2\n",
    "#### Group 7\n",
    "    Jonas ter Horst    - s2331616\n",
    "    Jochem Sallander   - s2324903\n",
    "    Dennis Hu          - s2380897\n",
    "    Sri Harsh Amur     - s2343665\n",
    "    Kristian Nedelchev - s2343800"
   ]
  },
  {
   "cell_type": "markdown",
   "id": "7c3080d6",
   "metadata": {},
   "source": [
    "### Motivation and Goals\n",
    "The goal of this assignment is to analyze a .pcap file containing all the packets that were sent during a DOS/DDOS attack. We are doing this to find out more detailed information about what a DOS/DDOS attack actually is, what the general patterns are and how to analyze the attack. We all do not have detailed previous knowledge about DOS/DDOS attacks and are interested to learn more about it. This hands-on session on DOS/DDOS allows us to dissect the typical packets that constitute such attacks and give us an in-sight on how they work. It will help us to identify and investigate DOS/DDOS attacks in the future."
   ]
  },
  {
   "cell_type": "markdown",
   "id": "3179f0e6",
   "metadata": {},
   "source": [
    "### Methodology and Results \n",
    "For this assignment, we received data from an actual DDOS attack. The attack is stored in a pcap file which we can open in Wireshark. In Wireshark the packets can be filtered and further analysed to answer 16 questions about this attack. "
   ]
  },
  {
   "cell_type": "markdown",
   "id": "6228901c",
   "metadata": {},
   "source": [
    "### Answers to questions"
   ]
  },
  {
   "cell_type": "markdown",
   "id": "3b116020",
   "metadata": {},
   "source": [
    "#### Question 1\n",
    "122234 packets"
   ]
  },
  {
   "cell_type": "code",
   "execution_count": 20,
   "id": "dea9b6a9",
   "metadata": {},
   "outputs": [
    {
     "data": {
      "text/plain": [
       "122234"
      ]
     },
     "execution_count": 20,
     "metadata": {},
     "output_type": "execute_result"
    }
   ],
   "source": [
    "len(p)"
   ]
  },
  {
   "cell_type": "markdown",
   "id": "e9db2099",
   "metadata": {},
   "source": [
    "#### Question 2\n",
    "25.343 Seconds "
   ]
  },
  {
   "cell_type": "code",
   "execution_count": 21,
   "id": "4f25ce2e",
   "metadata": {},
   "outputs": [
    {
     "name": "stdout",
     "output_type": "stream",
     "text": [
      "The monitored attack lasted 25.343028 seconds\n"
     ]
    }
   ],
   "source": [
    "pkt_first = p[0]\n",
    "pkt_last = p[122233]\n",
    "t_attack = pkt_last.time - pkt_first.time\n",
    "print(f\"The monitored attack lasted {t_attack} seconds\")"
   ]
  },
  {
   "cell_type": "markdown",
   "id": "52262af3",
   "metadata": {},
   "source": [
    "#### Question 3\n",
    "We found the following three packets, which are not part of the attack.\n",
    "The frames 1 and 11 are ping requests. Frame 2 is a ping response.\n",
    "\n",
    "![alt text](question3a.png \"question3a.png\")\n",
    "![alt text](question3b.png \"question3b.png\")\n",
    "![alt text](question3c.png \"question3c.png\")"
   ]
  },
  {
   "cell_type": "markdown",
   "id": "68751776",
   "metadata": {},
   "source": [
    "#### Question 4\n",
    "We discovered that almost all of the query responses were addressed to port 80 on the victim's machine. In addition, it appears that all systems that were part of the attack requested DNS queries to the same handful of domains."
   ]
  },
  {
   "cell_type": "markdown",
   "id": "5b793c19",
   "metadata": {},
   "source": [
    "#### Question 5\n",
    "A possible filter for the attack in Wireshark could be to filter based upon protocol. Since the attack uses the DNS protocol it could be used in the filter bar by just inserting ‘dns && !(icmp)’."
   ]
  },
  {
   "cell_type": "markdown",
   "id": "3a2e686a",
   "metadata": {},
   "source": [
    "#### Question 6\n",
    "The IP of the victim is 172.31.28.132"
   ]
  },
  {
   "cell_type": "markdown",
   "id": "67fd4feb",
   "metadata": {},
   "source": [
    "#### Question 7\n",
    "<p>122226 packets of the 122233 are using the DNS protocol and are part of the attack. This also includes the ICMP packets that are from the victim to the attacker telling it it can't be reached.</p>\n",
    "\n",
    "<p>Excluding the ICMP makes the packet count 120350.</p>"
   ]
  },
  {
   "cell_type": "code",
   "execution_count": 39,
   "id": "dce8fe51",
   "metadata": {},
   "outputs": [
    {
     "name": "stdout",
     "output_type": "stream",
     "text": [
      "number of packets with DNS protocol: 120350\n",
      "and packets without DNS protocol: 1883\n"
     ]
    }
   ],
   "source": [
    "DNS = 0\n",
    "nonDNS = 0\n",
    "for i in range(len(p)-1):\n",
    "    if p[i][IP].proto == 17:\n",
    "        DNS += 1\n",
    "    else: \n",
    "        nonDNS +=1\n",
    "    \n",
    "print(f\"number of packets with DNS protocol: {DNS}\\nand packets without DNS protocol: {nonDNS}\")\n"
   ]
  },
  {
   "cell_type": "markdown",
   "id": "52157344",
   "metadata": {},
   "source": [
    "#### Question 8\n",
    "82 excluding the victim's addresses 172.31.28.132 and 172.31.0.2."
   ]
  },
  {
   "cell_type": "code",
   "execution_count": 59,
   "id": "1dfc4a8f",
   "metadata": {},
   "outputs": [
    {
     "name": "stdout",
     "output_type": "stream",
     "text": [
      "length of list of ip addresses: 82\n",
      "162.8.125.17\n",
      "162.8.125.20\n",
      "89.228.8.86\n",
      "70.62.123.36\n",
      "82.145.62.6\n",
      "82.145.62.5\n",
      "37.123.96.179\n",
      "92.103.90.30\n",
      "82.80.26.175\n",
      "192.117.105.121\n",
      "61.93.9.158\n",
      "81.5.178.235\n",
      "198.101.213.159\n",
      "218.216.183.36\n",
      "62.219.152.108\n",
      "109.2.223.27\n",
      "81.218.145.44\n",
      "61.7.231.225\n",
      "122.154.73.42\n",
      "42.112.208.60\n",
      "61.19.78.113\n",
      "122.154.238.10\n",
      "81.218.188.83\n",
      "121.32.89.198\n",
      "59.154.53.77\n",
      "203.174.167.20\n",
      "82.145.62.7\n",
      "82.145.62.3\n",
      "211.138.248.108\n",
      "110.170.116.9\n",
      "81.7.86.91\n",
      "110.170.116.12\n",
      "60.250.159.61\n",
      "109.184.1.96\n",
      "217.15.140.158\n",
      "200.107.235.46\n",
      "113.161.106.4\n",
      "62.219.141.161\n",
      "61.152.126.84\n",
      "202.10.92.5\n",
      "180.180.126.177\n",
      "109.161.52.1\n",
      "217.118.186.54\n",
      "189.90.244.42\n",
      "80.51.214.183\n",
      "85.93.44.161\n",
      "88.85.171.248\n",
      "110.159.221.147\n",
      "59.46.49.50\n",
      "63.246.239.2\n",
      "61.152.126.82\n",
      "113.161.106.6\n",
      "46.145.104.93\n",
      "195.175.90.210\n",
      "110.77.140.17\n",
      "177.69.215.97\n",
      "118.70.197.18\n",
      "175.138.61.51\n",
      "118.70.197.32\n",
      "113.161.106.2\n",
      "218.94.74.157\n",
      "118.70.197.42\n",
      "217.219.122.38\n",
      "59.46.49.51\n",
      "174.46.39.31\n",
      "175.138.67.50\n",
      "81.218.147.197\n",
      "62.219.116.56\n",
      "118.70.197.2\n",
      "78.189.16.152\n",
      "140.246.17.9\n",
      "62.219.208.81\n",
      "190.109.221.46\n",
      "119.75.11.139\n",
      "178.21.237.130\n",
      "186.227.165.6\n",
      "109.169.45.81\n",
      "31.168.112.149\n",
      "92.50.0.243\n",
      "179.146.137.239\n",
      "103.10.230.143\n",
      "203.186.108.102\n"
     ]
    }
   ],
   "source": [
    "ipaddresses = []\n",
    "for i in range(len(p)-1):\n",
    "    if p[i][IP].src not in ipaddresses:\n",
    "        ipaddresses.append(p[i][IP].src)\n",
    "ipaddresses.remove('172.31.28.132')\n",
    "ipaddresses.remove('172.31.0.2')\n",
    "\n",
    "print(f'length of list of ip addresses: {len(ipaddresses)}')\n",
    "print(*ipaddresses, sep='\\n')"
   ]
  },
  {
   "cell_type": "markdown",
   "id": "518e2037",
   "metadata": {},
   "source": [
    "#### Question 9\n",
    "These are the top 3 Source IPs:\n",
    "* 37.123.96.179\n",
    "* 61.93.9.158\n",
    "* 121.32.89.198\n"
   ]
  },
  {
   "cell_type": "markdown",
   "id": "73447a65",
   "metadata": {},
   "source": [
    "#### Question 10\n",
    "These are the top 3 Source IPs and their locations:\n",
    "* 37.123.96.179 &nbsp; &nbsp; &nbsp; &nbsp;- Turkey, Manisa \n",
    "* 61.93.9.158  &nbsp; &nbsp; &nbsp; &nbsp;- Hong Kong\n",
    "* 121.32.89.198  &nbsp; &nbsp; &nbsp; &nbsp; - China, Guangdong"
   ]
  },
  {
   "cell_type": "markdown",
   "id": "01f4d757",
   "metadata": {},
   "source": [
    "#### Question 11\n",
    "These are the top 3 Source IPs and AS-es:\n",
    "* 37.123.96.179 \t- AS57844, SPDNet Telekomunikasyon Hizmetleri Bilgi Teknolojileri Taahhut Sanayi Ve Ticaret A.S.\n",
    "* 61.93.9.158 \t\t- AS9381, HKBN Enterprise Solutions HK Limited\n",
    "* 121.32.89.198 \t- AS4134, CHINANET-BACKBONE"
   ]
  },
  {
   "cell_type": "markdown",
   "id": "59229ee7",
   "metadata": {},
   "source": [
    "#### Question 12\n",
    "It is not possible for us to find the vendors related to the attacking IP addresses because the MAC address included in the packets is from the last hardware device that the packets went trough before arriving at the victim, in this case it seems that all incoming packets have the same MAC source address and thus must have passed through the same device before reaching the final victim. This MAC address also seems to not be a factory set one and it is thus also not possible for us to find the vendor for this last hardware device link."
   ]
  },
  {
   "cell_type": "markdown",
   "id": "5f969e99",
   "metadata": {},
   "source": [
    "#### Question 13\n",
    "Port 53 is the source port of the attack. Port 53 is DNS.  "
   ]
  },
  {
   "cell_type": "markdown",
   "id": "b2dbeda4",
   "metadata": {},
   "source": [
    "#### Question 14\n",
    "The peak data rate was found to be around 955240 Bits/ms or 955,24 Mbit/s. \n",
    "![alt text](question14.png \"question14.png\")"
   ]
  },
  {
   "cell_type": "markdown",
   "id": "7376ddc1",
   "metadata": {},
   "source": [
    "#### Question 15\n",
    "The transport protocol used in the attack was UDP not TCP. Therefore, the distribution of the TCP flags used in the attack is 0 all over the board."
   ]
  },
  {
   "cell_type": "markdown",
   "id": "cc2a611d",
   "metadata": {},
   "source": [
    "#### Question 16\n",
    "This is a list of the different packages lengths and the distribution. This table states that about 55% of the packets have a length of 2560-5119. The second highest percentage is about 15.5% for packages with a length between 320 and 639. "
   ]
  },
  {
   "cell_type": "markdown",
   "id": "30f160f6",
   "metadata": {},
   "source": [
    "### Conclusion and Reflections\n",
    "In this assignment we learned how DOS/DDOS attacks are detected in a pcap file in Wireshark. Furthermore the recovery of IP addresses and locations of the attackers was shown and the analysis of packet count and the data speed was demonstrated.\n",
    "\n",
    "Working on the project went smoothly without major problems. Most of the work was done well within the afternoon after the lecture. There were some questions that gave us a little bit of trouble but, with some research and working together we managed to finish everything competently.\n"
   ]
  }
 ],
 "metadata": {
  "kernelspec": {
   "display_name": "Python 3",
   "language": "python",
   "name": "python3"
  },
  "language_info": {
   "codemirror_mode": {
    "name": "ipython",
    "version": 3
   },
   "file_extension": ".py",
   "mimetype": "text/x-python",
   "name": "python",
   "nbconvert_exporter": "python",
   "pygments_lexer": "ipython3",
   "version": "3.8.8"
  }
 },
 "nbformat": 4,
 "nbformat_minor": 5
}
